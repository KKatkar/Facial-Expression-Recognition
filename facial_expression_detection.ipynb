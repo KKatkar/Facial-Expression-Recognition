{
 "cells": [
  {
   "cell_type": "code",
   "execution_count": 1,
   "metadata": {},
   "outputs": [],
   "source": [
    "import os\n",
    "import pandas as pd\n",
    "import numpy as np\n",
    "from matplotlib import pyplot as plt\n",
    "%matplotlib inline"
   ]
  },
  {
   "cell_type": "markdown",
   "metadata": {},
   "source": [
    "# Import expression dataset.\n",
    "source: https://www.kaggle.com/c/challenges-in-representation-learning-facial-expression-recognition-challenge/data"
   ]
  },
  {
   "cell_type": "code",
   "execution_count": 2,
   "metadata": {},
   "outputs": [],
   "source": [
    "dataset = pd.read_csv(\"data/fer2013.csv\")"
   ]
  },
  {
   "cell_type": "code",
   "execution_count": 3,
   "metadata": {},
   "outputs": [
    {
     "data": {
      "text/html": [
       "<div>\n",
       "<style scoped>\n",
       "    .dataframe tbody tr th:only-of-type {\n",
       "        vertical-align: middle;\n",
       "    }\n",
       "\n",
       "    .dataframe tbody tr th {\n",
       "        vertical-align: top;\n",
       "    }\n",
       "\n",
       "    .dataframe thead th {\n",
       "        text-align: right;\n",
       "    }\n",
       "</style>\n",
       "<table border=\"1\" class=\"dataframe\">\n",
       "  <thead>\n",
       "    <tr style=\"text-align: right;\">\n",
       "      <th></th>\n",
       "      <th>emotion</th>\n",
       "      <th>pixels</th>\n",
       "      <th>Usage</th>\n",
       "    </tr>\n",
       "  </thead>\n",
       "  <tbody>\n",
       "    <tr>\n",
       "      <th>0</th>\n",
       "      <td>0</td>\n",
       "      <td>70 80 82 72 58 58 60 63 54 58 60 48 89 115 121...</td>\n",
       "      <td>Training</td>\n",
       "    </tr>\n",
       "    <tr>\n",
       "      <th>1</th>\n",
       "      <td>0</td>\n",
       "      <td>151 150 147 155 148 133 111 140 170 174 182 15...</td>\n",
       "      <td>Training</td>\n",
       "    </tr>\n",
       "    <tr>\n",
       "      <th>2</th>\n",
       "      <td>2</td>\n",
       "      <td>231 212 156 164 174 138 161 173 182 200 106 38...</td>\n",
       "      <td>Training</td>\n",
       "    </tr>\n",
       "    <tr>\n",
       "      <th>3</th>\n",
       "      <td>4</td>\n",
       "      <td>24 32 36 30 32 23 19 20 30 41 21 22 32 34 21 1...</td>\n",
       "      <td>Training</td>\n",
       "    </tr>\n",
       "    <tr>\n",
       "      <th>4</th>\n",
       "      <td>6</td>\n",
       "      <td>4 0 0 0 0 0 0 0 0 0 0 0 3 15 23 28 48 50 58 84...</td>\n",
       "      <td>Training</td>\n",
       "    </tr>\n",
       "  </tbody>\n",
       "</table>\n",
       "</div>"
      ],
      "text/plain": [
       "   emotion                                             pixels     Usage\n",
       "0        0  70 80 82 72 58 58 60 63 54 58 60 48 89 115 121...  Training\n",
       "1        0  151 150 147 155 148 133 111 140 170 174 182 15...  Training\n",
       "2        2  231 212 156 164 174 138 161 173 182 200 106 38...  Training\n",
       "3        4  24 32 36 30 32 23 19 20 30 41 21 22 32 34 21 1...  Training\n",
       "4        6  4 0 0 0 0 0 0 0 0 0 0 0 3 15 23 28 48 50 58 84...  Training"
      ]
     },
     "execution_count": 3,
     "metadata": {},
     "output_type": "execute_result"
    }
   ],
   "source": [
    "dataset.head()"
   ]
  },
  {
   "cell_type": "code",
   "execution_count": 4,
   "metadata": {},
   "outputs": [
    {
     "data": {
      "text/plain": [
       "(35887, 3)"
      ]
     },
     "execution_count": 4,
     "metadata": {},
     "output_type": "execute_result"
    }
   ],
   "source": [
    "dataset.shape"
   ]
  },
  {
   "cell_type": "markdown",
   "metadata": {},
   "source": [
    "# Pre-processing data\n",
    "Preparing data for modeling"
   ]
  },
  {
   "cell_type": "code",
   "execution_count": 4,
   "metadata": {},
   "outputs": [],
   "source": [
    "# Mapping emotion integer to categorical value\n",
    "emotions_dict = {0: 'Angry',\n",
    "                 1: 'Disgust',\n",
    "                 2: 'Fear',\n",
    "                 3: 'Happy',\n",
    "                 4: 'Sad',\n",
    "                 5: 'Surprise',\n",
    "                 6: 'Neutral'}\n",
    "\n",
    "# dataset['expression'] = list(map(lambda x:emotions_dict[x], dataset['emotion']))\n",
    "# dataset.head()"
   ]
  },
  {
   "cell_type": "markdown",
   "metadata": {},
   "source": [
    "#### Understanding Usage Column:\n",
    "The given dataset is already tagged distinct sets:"
   ]
  },
  {
   "cell_type": "code",
   "execution_count": 5,
   "metadata": {},
   "outputs": [
    {
     "data": {
      "text/plain": [
       "array(['Training', 'PublicTest', 'PrivateTest'], dtype=object)"
      ]
     },
     "execution_count": 5,
     "metadata": {},
     "output_type": "execute_result"
    }
   ],
   "source": [
    "dataset.Usage.unique()"
   ]
  },
  {
   "cell_type": "code",
   "execution_count": 6,
   "metadata": {},
   "outputs": [
    {
     "name": "stdout",
     "output_type": "stream",
     "text": [
      "28709\n",
      "3589\n",
      "3589\n"
     ]
    }
   ],
   "source": [
    "print(sum(dataset['Usage'] == 'Training'))\n",
    "print(sum(dataset['Usage'] == 'PublicTest'))\n",
    "print(sum(dataset['Usage'] == 'PrivateTest'))"
   ]
  },
  {
   "cell_type": "markdown",
   "metadata": {},
   "source": [
    "Therefore, we can see that 80% of the dataset is tagged as 'Training' and 10% as PublicTest and PrivateTest each respectively. <br>\n",
    "Next, using these tags form Training, Validation and Test data sets."
   ]
  },
  {
   "cell_type": "markdown",
   "metadata": {},
   "source": [
    "\n",
    "### Understanding and normalizing pixels column   "
   ]
  },
  {
   "cell_type": "code",
   "execution_count": 7,
   "metadata": {
    "scrolled": true
   },
   "outputs": [
    {
     "name": "stdout",
     "output_type": "stream",
     "text": [
      "151 150 147 155 148 133 111 140 170 174 182 154 153 164 173 178 185 185 189 187 186 193 194 185 183 186 180 173 166 161 147 133 172 151 114 161 161 146 131 104 95 132 163 123 119 129 140 120 151 149 149 153 137 115 129 166 170 181 164 143 157 156 169 179 185 183 186 186 184 190 191 184 186 190 183 175 168 160 147 136 135 167 136 108 153 167 149 137 111 90 134 162 121 122 141 137 151 151 156 143 116 124 159 164 174 169 135 144 155 153 164 170 176 178 177 178 187 185 181 182 183 181 178 170 164 158 148 144 130 136 173 130 97 137 167 157 138 113 90 138 168 109 123 146 151 152 155 127 113 159 167 170 171 142 131 140 154 162 168 169 169 164 168 173 176 179 178 176 173 172 170 161 154 152 146 145 137 124 130 171 124 102 133 164 152 138 110 86 154 149 100 139 153 151 136 113 142 159 161 174 150 127 136 140 154 164 163 167 173 172 171 170 167 168 172 167 162 161 160 163 163 154 145 146 140 133 122 135 167 127 101 126 164 147 132 95 91 166 115 113 158 143 121 134 153 153 164 162 131 130 136 146 155 158 155 157 163 163 158 159 159 161 165 156 153 156 159 163 163 150 149 150 146 140 137 122 147 154 116 97 133 164 142 123 77 117 147 95 149 127 129 153 142 165 171 136 116 129 130 139 140 149 153 147 146 150 150 155 151 155 156 153 152 157 165 165 160 150 156 156 148 141 135 135 132 147 141 110 97 143 165 142 101 66 151 117 136 125 148 139 153 173 159 118 116 119 123 131 134 145 145 137 142 151 157 159 153 154 153 150 159 170 171 167 160 160 159 158 152 141 145 144 140 119 144 133 106 101 151 148 130 70 119 148 129 143 146 134 165 165 134 121 123 121 125 129 136 150 159 163 165 161 157 155 147 150 148 135 156 171 169 171 166 165 165 158 153 146 147 150 137 122 112 144 122 94 111 158 143 91 74 155 134 147 131 154 167 153 107 125 129 134 137 134 136 154 168 174 171 168 163 156 151 150 146 146 166 171 173 176 177 191 187 175 180 179 174 165 142 134 108 111 137 108 86 143 156 116 64 133 143 129 138 162 167 132 117 127 128 140 147 145 155 159 165 170 172 166 160 154 156 160 156 156 158 153 170 188 198 208 203 209 219 217 200 174 171 147 128 92 129 131 88 103 159 135 75 111 133 126 160 156 159 117 132 129 131 144 160 165 162 166 170 165 160 160 159 153 149 150 151 148 120 132 189 183 180 177 187 201 194 186 181 170 167 146 118 117 100 139 112 74 139 145 85 91 120 151 156 164 129 111 135 140 139 142 158 163 172 190 195 189 168 156 149 143 137 140 140 132 114 142 150 129 133 125 138 140 132 114 124 131 118 143 125 126 82 97 141 72 113 152 93 77 134 157 149 166 95 124 136 142 156 165 179 189 198 198 186 186 188 157 126 124 118 129 128 115 95 100 90 84 81 66 72 80 77 63 59 65 70 67 86 105 82 95 138 89 94 153 106 74 153 148 165 134 80 134 137 149 173 187 193 201 185 169 141 128 150 139 113 119 123 128 114 91 71 60 51 69 78 80 80 79 76 76 65 65 85 103 46 73 142 85 114 114 75 145 121 70 150 141 168 76 91 130 144 179 197 210 190 164 146 128 121 90 92 90 90 114 104 109 110 81 52 53 87 96 94 99 96 88 95 108 116 110 97 120 98 64 120 77 105 130 67 131 128 67 137 150 136 46 106 126 164 164 151 150 131 115 103 88 90 91 92 78 56 49 65 90 115 66 29 91 99 104 107 88 94 105 111 118 113 116 103 103 120 47 83 110 120 134 67 116 136 74 133 163 82 51 113 115 104 112 144 162 138 104 96 93 95 90 91 99 103 55 29 46 45 16 40 104 95 101 92 93 96 80 69 82 99 98 108 116 128 70 102 117 127 140 79 105 139 82 140 149 23 43 103 50 78 179 185 147 111 113 117 106 91 95 100 91 96 92 19 6 19 8 35 88 64 66 60 72 68 34 35 70 85 101 118 130 143 82 114 125 130 149 93 104 139 83 148 130 67 86 94 42 142 173 151 128 124 106 96 103 90 89 100 97 95 103 28 48 127 126 38 87 81 68 64 70 74 51 68 92 112 139 149 152 158 100 134 128 133 159 105 95 139 86 153 113 62 126 130 62 135 136 127 122 93 67 54 44 42 43 60 76 86 104 41 115 197 211 112 67 118 109 107 93 84 83 101 108 129 150 158 156 143 105 140 129 131 166 115 85 137 87 156 99 21 89 104 46 117 135 113 78 52 89 94 46 24 45 54 65 95 92 49 161 213 212 188 85 97 133 130 124 121 122 136 147 143 154 151 173 124 115 147 129 124 164 136 95 126 85 159 94 36 97 117 78 93 130 90 73 77 94 86 61 60 72 69 91 113 80 76 188 214 213 200 143 66 119 138 150 151 151 159 163 156 154 162 140 107 136 148 135 115 158 150 116 111 87 161 101 50 109 111 98 69 99 97 109 111 114 106 95 96 99 101 109 122 70 111 193 214 217 200 183 115 78 124 157 167 170 172 166 161 147 127 118 134 138 141 141 119 147 155 131 98 96 163 103 72 120 112 115 80 100 117 100 105 127 138 133 132 140 137 121 103 64 153 200 215 218 205 183 169 127 77 92 111 122 126 128 128 129 135 145 141 138 133 138 127 139 169 127 83 93 161 106 87 122 106 117 114 88 124 116 108 135 150 151 156 163 162 121 66 110 177 201 212 214 200 181 162 155 117 97 103 109 115 119 131 141 147 149 141 146 140 128 130 140 170 101 87 89 163 109 105 123 103 112 133 113 95 132 139 160 167 169 158 149 118 72 89 133 169 189 197 204 194 180 172 166 138 114 112 114 120 119 125 134 140 150 145 142 145 142 144 152 164 116 95 84 159 113 111 124 101 112 136 134 115 107 118 131 138 129 108 93 75 88 112 136 170 183 181 178 181 177 177 180 175 130 110 119 125 130 131 135 138 142 146 136 130 146 142 157 169 135 91 100 150 115 114 138 107 114 133 125 124 133 137 128 119 106 102 98 93 96 141 160 147 149 150 145 153 161 147 146 175 162 114 112 121 127 128 131 129 134 142 136 124 139 141 157 175 138 106 149 145 119 119 150 109 115 136 129 126 131 137 130 114 106 108 109 99 115 156 138 116 134 139 130 140 119 53 45 103 139 131 101 98 117 126 130 123 124 133 137 131 130 143 160 177 148 158 182 146 122 117 161 118 116 131 134 130 130 124 121 118 117 119 112 92 107 134 74 29 73 122 129 126 78 33 42 65 107 123 103 97 96 113 121 119 121 124 131 130 128 157 176 179 185 187 181 158 124 111 169 131 116 123 129 130 129 129 128 125 124 114 86 89 104 91 46 31 35 74 113 107 93 79 79 94 121 131 126 119 92 100 114 114 117 115 120 125 130 164 179 188 192 182 184 182 140 106 170 147 120 121 129 130 127 128 129 128 123 98 62 98 116 113 94 90 85 81 80 104 116 126 141 136 148 148 129 122 101 95 107 107 117 123 125 130 139 165 179 184 192 184 183 191 167 119 173 158 136 118 130 131 125 123 123 125 114 81 71 131 147 148 138 133 117 101 88 118 131 143 163 167 165 164 146 132 122 107 95 104 115 126 136 137 146 168 180 179 195 187 183 188 186 141 158 165 147 116 131 130 124 118 117 119 102 70 101 140 154 153 142 134 125 118 117 118 116 120 137 149 163 172 158 144 137 138 117 112 123 129 139 146 157 167 175 178 196 190 184 190 188 167 155 174 161 134 119 114 121 118 113 109 89 93 134 140 161 170 145 126 108 121 117 108 117 136 146 142 138 150 149 147 135 142 122 115 142 149 144 144 162 168 171 176 192 187 182 192 183 185 175 174 145 87 65 63 84 112 114 98 92 109 140 155 151 147 123 103 111 112 116 108 111 127 130 117 115 124 129 138 124 118 120 114 135 144 141 144 154 168 170 174 187 182 179 187 184 184 187 132 28 6 24 36 39 69 111 99 84 109 134 133 108 97 84 75 78 74 81 80 62 48 32 27 36 42 56 88 87 86 123 130 138 138 134 141 151 170 167 173 189 184 181 187 186 191 192 63 26 18 3 16 22 23 85 106 98 110 112 89 47 35 41 20 18 21 13 9 7 3 2 4 4 3 4 30 40 49 112 129 142 143 139 144 151 171 174 177 188 186 181 189 189 170 124 47 33 28 8 4 12 11 48 111 113 100 85 50 19 4 5 3 10 14 12 15 26 31 35 38 37 40 62 84 73 61 124 143 138 130 140 139 152 157 170 179 186 186 181 179 115 39 26 14 6 10 3 1 5 2 48 124 117 106 71 34 42 32 17 17 24 35 41 49 63 67 70 72 88 106 118 107 97 75 95 139 138 125 130 131 150 160 173 183 188 186 184 114 54 84 157 71 0 6 5 4 3 0 75 122 109 103 69 53 67 68 59 55 54 59 65 74 88 97 104 109 119 129 128 127 130 98 96 136 156 130 117 128 148 165 176 190 191 186 183 74 64 167 201 164 43 1 0 0 3 46 114 118 110 110 67 66 97 83 86 87 98 93 98 102 112 119 119 125 126 130 128 127 135 134 112 123 150 136 118 126 146 158 179 196 188 185 185 142 50 136 182 194 173 83 58 60 100 130 121 113 120 116 80 77 95 103 111 116 124 116 120 117 119 108 123 129 144 160 143 129 130 127 132 123 149 132 117 125 142 151 188 194 187 184 185 197 128 84 169 177 199 178 162 147 154 146 124 107 129 120 96 88 99 131 131 145 131 137 148 131 133 128 124 118 142 167 159 130 136 134 127 128 143 133 118 139 140 144 192 196 187 184 184 188 188 121 86 175 189 192 157 148 144 149 126 113 123 127 106 96 107 145 143 144 131 147 150 143 147 134 126 131 151 170 162 148 116 139 122 124 141 127 112 128 116 113 159 201 185 185 186 188 187 196 129 85 171 194 171 142 144 144 128 119 116 121 116 100 108 136 146 128 135 151 146 152 150 158 143 133 143 159 153 152 128 137 133 125 127 102 108 109 105 102 106 197 186 182 187 186 184 185 197 124 84 174 185 150 129 143 135 115 102 111 124 112 109 132 146 135 149 148 143 163 156 159 150 139 128 116 125 133 109 130 147 130 121 105 108 95 108 102 67 171 193 183 184\n"
     ]
    },
    {
     "data": {
      "text/plain": [
       "8687"
      ]
     },
     "execution_count": 7,
     "metadata": {},
     "output_type": "execute_result"
    }
   ],
   "source": [
    "print(dataset['pixels'][1])\n",
    "len(dataset['pixels'][1])"
   ]
  },
  {
   "cell_type": "code",
   "execution_count": 8,
   "metadata": {},
   "outputs": [
    {
     "data": {
      "text/plain": [
       "str"
      ]
     },
     "execution_count": 8,
     "metadata": {},
     "output_type": "execute_result"
    }
   ],
   "source": [
    "type(dataset.pixels[0])"
   ]
  },
  {
   "cell_type": "markdown",
   "metadata": {},
   "source": [
    "### Convert space seperated string into a 48 x 48 integer array for every record"
   ]
  },
  {
   "cell_type": "code",
   "execution_count": 9,
   "metadata": {},
   "outputs": [],
   "source": [
    "#Checking on one record\n",
    "image = np.fromstring(dataset.pixels[0], dtype=int, sep=' ')\n",
    "image = np.reshape(image, (48, 48))"
   ]
  },
  {
   "cell_type": "code",
   "execution_count": 10,
   "metadata": {},
   "outputs": [
    {
     "data": {
      "text/plain": [
       "array([[ 70,  80,  82, ...,  52,  43,  41],\n",
       "       [ 65,  61,  58, ...,  56,  52,  44],\n",
       "       [ 50,  43,  54, ...,  49,  56,  47],\n",
       "       ...,\n",
       "       [ 91,  65,  42, ...,  72,  56,  43],\n",
       "       [ 77,  82,  79, ..., 105,  70,  46],\n",
       "       [ 77,  72,  84, ..., 106, 109,  82]])"
      ]
     },
     "execution_count": 10,
     "metadata": {},
     "output_type": "execute_result"
    }
   ],
   "source": [
    "image"
   ]
  },
  {
   "cell_type": "code",
   "execution_count": 11,
   "metadata": {},
   "outputs": [
    {
     "data": {
      "text/plain": [
       "<matplotlib.image.AxesImage at 0x2105089a280>"
      ]
     },
     "execution_count": 11,
     "metadata": {},
     "output_type": "execute_result"
    },
    {
     "data": {
      "image/png": "[encoded data removed]",
      "text/plain": [
       "<Figure size 432x288 with 1 Axes>"
      ]
     },
     "metadata": {
      "needs_background": "light"
     },
     "output_type": "display_data"
    }
   ],
   "source": [
    "plt.imshow(image, interpolation = 'none', cmap='gray')"
   ]
  },
  {
   "cell_type": "markdown",
   "metadata": {},
   "source": [
    "#### Creating Integer array of pixels for each record:"
   ]
  },
  {
   "cell_type": "code",
   "execution_count": 12,
   "metadata": {},
   "outputs": [],
   "source": [
    "def get_matrix_and_labels(data):\n",
    "    \"\"\"\n",
    "        Prepare pixel matrix for each image.\n",
    "        and return list of labels along with pixels.\n",
    "    \"\"\"\n",
    "    image_mat_list = np.zeros(shape=(len(data), 48, 48))\n",
    "    label_list = np.array(list(map(int,data['emotion'])))\n",
    "    \n",
    "    for i,pixels in enumerate(data['pixels']):\n",
    "        image = np.fromstring(pixels, dtype=int, sep=' ')\n",
    "        image = np.reshape(image, (48, 48))\n",
    "        \n",
    "        image_mat_list[i] = image\n",
    "    \n",
    "    return image_mat_list, label_list\n",
    "\n"
   ]
  },
  {
   "cell_type": "markdown",
   "metadata": {},
   "source": [
    "#### Dividing into train, test and validation sets"
   ]
  },
  {
   "cell_type": "code",
   "execution_count": 13,
   "metadata": {},
   "outputs": [],
   "source": [
    "train_set, train_labels = get_matrix_and_labels(dataset[dataset['Usage'] == 'Training'])\n",
    "val_set, val_labels = get_matrix_and_labels(dataset[dataset['Usage'] == 'PrivateTest'])\n",
    "test_set, test_labels = get_matrix_and_labels(dataset[dataset['Usage'] == 'PublicTest'])"
   ]
  },
  {
   "cell_type": "code",
   "execution_count": null,
   "metadata": {},
   "outputs": [],
   "source": []
  },
  {
   "cell_type": "code",
   "execution_count": 14,
   "metadata": {},
   "outputs": [],
   "source": [
    "def plot_every_emotion():\n",
    "    fig, axs = plt.subplots(1, 7, figsize=(30, 12))\n",
    "    \n",
    "    axs = axs.ravel()\n",
    "    \n",
    "    for i in range(7):\n",
    "        idx = dataset[dataset['emotion']==i].index[i]\n",
    "        axs[i].imshow(train_images[idx][:,:,0], cmap='gray')\n",
    "        axs[i].set_title(emotions_dict[i])\n",
    "        axs[i].set_xticklabels([])\n",
    "        axs[i].set_yticklabels([])"
   ]
  },
  {
   "cell_type": "code",
   "execution_count": null,
   "metadata": {},
   "outputs": [],
   "source": []
  },
  {
   "cell_type": "markdown",
   "metadata": {},
   "source": [
    "#### Normalize the image data for learning"
   ]
  },
  {
   "cell_type": "code",
   "execution_count": 15,
   "metadata": {},
   "outputs": [],
   "source": [
    "# Scale the same distribution to 0<= x <= 1\n",
    "train_images = train_set.reshape((train_set.shape[0], 48, 48, 1))\n",
    "train_images = train_images.astype('float32')/255\n",
    "val_images = val_set.reshape((val_set.shape[0], 48, 48, 1))\n",
    "val_images = val_images.astype('float32')/255\n",
    "test_images = test_set.reshape((test_set.shape[0], 48, 48, 1))\n",
    "test_images = test_images.astype('float32')/255"
   ]
  },
  {
   "cell_type": "code",
   "execution_count": null,
   "metadata": {},
   "outputs": [],
   "source": []
  },
  {
   "cell_type": "code",
   "execution_count": 16,
   "metadata": {},
   "outputs": [
    {
     "data": {
      "image/png": "[encoded data removed]",
      "text/plain": [
       "<Figure size 2160x864 with 7 Axes>"
      ]
     },
     "metadata": {
      "needs_background": "light"
     },
     "output_type": "display_data"
    }
   ],
   "source": [
    "plot_every_emotion()"
   ]
  },
  {
   "cell_type": "markdown",
   "metadata": {},
   "source": [
    "## Visualizing processed data"
   ]
  },
  {
   "cell_type": "code",
   "execution_count": 17,
   "metadata": {},
   "outputs": [],
   "source": [
    "labels = list(emotions_dict.values())\n",
    "train_emotions =  []\n",
    "\n",
    "for i in range(7):\n",
    "    train_emotions.append(sum(train_labels==i))\n",
    "\n",
    "val_emotions = []\n",
    "for i in range(7):\n",
    "    val_emotions.append(sum(val_labels==i))\n"
   ]
  },
  {
   "cell_type": "code",
   "execution_count": 18,
   "metadata": {},
   "outputs": [
    {
     "data": {
      "text/plain": [
       "[<matplotlib.lines.Line2D at 0x21050b31d00>]"
      ]
     },
     "execution_count": 18,
     "metadata": {},
     "output_type": "execute_result"
    },
    {
     "data": {
      "image/png": "[encoded data removed]",
      "text/plain": [
       "<Figure size 1080x360 with 2 Axes>"
      ]
     },
     "metadata": {
      "needs_background": "light"
     },
     "output_type": "display_data"
    }
   ],
   "source": [
    "fig, (ax1, ax2) = plt.subplots(1,2,figsize = (15,5))\n",
    "fig.subplots_adjust(hspace = .5, wspace=.5)\n",
    "ax1.set_title(\"Training\")\n",
    "ax1.plot(train_emotions)\n",
    "ax2.set_title(\"Validation\")\n",
    "ax2.plot(val_emotions)"
   ]
  },
  {
   "cell_type": "code",
   "execution_count": 19,
   "metadata": {},
   "outputs": [
    {
     "data": {
      "image/png": "[encoded data removed]",
      "text/plain": [
       "<Figure size 1080x360 with 2 Axes>"
      ]
     },
     "metadata": {
      "needs_background": "light"
     },
     "output_type": "display_data"
    }
   ],
   "source": [
    "fig, (ax1, ax2) = plt.subplots(1,2,figsize = (15,5))\n",
    "fig.subplots_adjust(hspace = .5, wspace=.5)\n",
    "ax1.set_title(\"Training\")\n",
    "ax1.bar(labels, train_emotions, color ='red')\n",
    "ax2.set_title(\"Validation\")\n",
    "ax2.bar(labels, val_emotions, color = 'green')\n",
    "plt.show()"
   ]
  },
  {
   "cell_type": "markdown",
   "metadata": {},
   "source": [
    "### Obsevations:\n",
    "The samples available for disgust emotion seems insufficient for the model to learn it accurately. \n",
    "It might also cause misclassification for other samples if trained. Therefore, it makes sense to drop samples with \"Disgust\" as labels from all 3 datasets."
   ]
  },
  {
   "cell_type": "code",
   "execution_count": 20,
   "metadata": {},
   "outputs": [],
   "source": [
    "train_images = train_images[train_labels!=1]\n",
    "train_labels = np.array([x for x in train_labels if x!=1])"
   ]
  },
  {
   "cell_type": "code",
   "execution_count": 21,
   "metadata": {},
   "outputs": [],
   "source": [
    "val_images = val_images[val_labels!=1]\n",
    "val_labels = np.array([x for x in val_labels if x!=1])"
   ]
  },
  {
   "cell_type": "code",
   "execution_count": 22,
   "metadata": {},
   "outputs": [],
   "source": [
    "test_images = test_images[test_labels!=1]\n",
    "test_labels = np.array([x for x in test_labels if x!=1])"
   ]
  },
  {
   "cell_type": "code",
   "execution_count": 23,
   "metadata": {},
   "outputs": [],
   "source": [
    "labels = list(emotions_dict.values())\n",
    "train_emotions =  []\n",
    "\n",
    "for i in range(7):\n",
    "    train_emotions.append(sum(train_labels==i))\n",
    "\n",
    "val_emotions = []\n",
    "for i in range(7):\n",
    "    val_emotions.append(sum(val_labels==i))"
   ]
  },
  {
   "cell_type": "code",
   "execution_count": 24,
   "metadata": {},
   "outputs": [
    {
     "data": {
      "image/png": "[encoded data removed]",
      "text/plain": [
       "<Figure size 1080x360 with 2 Axes>"
      ]
     },
     "metadata": {
      "needs_background": "light"
     },
     "output_type": "display_data"
    }
   ],
   "source": [
    "fig, (ax1, ax2) = plt.subplots(1,2,figsize = (15,5))\n",
    "fig.subplots_adjust(hspace = .5, wspace=.5)\n",
    "ax1.set_title(\"Training\")\n",
    "ax1.bar(labels, train_emotions, color ='red')\n",
    "ax2.set_title(\"Validation\")\n",
    "ax2.bar(labels, val_emotions, color = 'green')\n",
    "plt.show()"
   ]
  },
  {
   "cell_type": "code",
   "execution_count": 25,
   "metadata": {},
   "outputs": [],
   "source": [
    "# Save normalized data in a csv at this point\n",
    "# pd.DataFrame(array_name).to_csv(\"file/path.csv\")"
   ]
  },
  {
   "cell_type": "markdown",
   "metadata": {},
   "source": [
    "# Building a model"
   ]
  },
  {
   "cell_type": "code",
   "execution_count": 26,
   "metadata": {},
   "outputs": [],
   "source": [
    "from sklearn.metrics import confusion_matrix\n",
    "\n",
    "from tensorflow.keras import models\n",
    "from tensorflow.keras.layers import Dense, Dropout, Flatten, Conv2D, MaxPool2D\n",
    "from tensorflow.keras.optimizers import RMSprop, Adam\n",
    "from tensorflow.keras.utils import to_categorical"
   ]
  },
  {
   "cell_type": "code",
   "execution_count": 27,
   "metadata": {},
   "outputs": [],
   "source": [
    "train_labels = to_categorical(train_labels)"
   ]
  },
  {
   "cell_type": "code",
   "execution_count": 28,
   "metadata": {},
   "outputs": [],
   "source": [
    "val_labels = to_categorical(val_labels)\n",
    "test_labels = to_categorical(test_labels)"
   ]
  },
  {
   "cell_type": "markdown",
   "metadata": {},
   "source": [
    "### Addressing class imbalance:\n",
    "Further from the plots above we can see there is a considerable difference between the majority class (\"Happy\") and rest of the class. Introducing class weights to the model will address this imbalance."
   ]
  },
  {
   "cell_type": "code",
   "execution_count": 56,
   "metadata": {},
   "outputs": [],
   "source": [
    "def get_class_weights():\n",
    "    samples = dataset[dataset[\"Usage\"] == \"Training\"]\n",
    "    filtered_samples = samples[dataset[\"emotion\"] !=1]\n",
    "    count = len(filtered_samples)\n",
    "    ratio_list = [samples[\"emotion\"].value_counts().sort_index()/count]\n",
    "#     print(ratio_list[0].tolist)\n",
    "    ratio_list = ratio_list[0].tolist()\n",
    "#     print(ratio_list)\n",
    "    return dict(zip(range(0,7), ratio_list))"
   ]
  },
  {
   "cell_type": "code",
   "execution_count": 57,
   "metadata": {},
   "outputs": [
    {
     "name": "stderr",
     "output_type": "stream",
     "text": [
      "<ipython-input-56-51d796c39427>:3: UserWarning: Boolean Series key will be reindexed to match DataFrame index.\n",
      "  filtered_samples = samples[dataset[\"emotion\"] !=1]\n"
     ]
    },
    {
     "data": {
      "text/plain": [
       "{0: 0.14130088777278677,\n",
       " 1: 0.01542107310861953,\n",
       " 2: 0.1449085700137941,\n",
       " 3: 0.25519046440066495,\n",
       " 4: 0.17083436494181728,\n",
       " 5: 0.11215647437484526,\n",
       " 6: 0.17560923849609167}"
      ]
     },
     "execution_count": 57,
     "metadata": {},
     "output_type": "execute_result"
    }
   ],
   "source": [
    "class_weights = get_class_weights()\n",
    "class_weights"
   ]
  },
  {
   "cell_type": "markdown",
   "metadata": {},
   "source": [
    "#### Note:\n",
    "The value for emotion 1 (\"Disgust\") is incorrect but insignificant as the samples with label 1 are removed from the training set. All other class weights are accurate. "
   ]
  },
  {
   "cell_type": "code",
   "execution_count": 46,
   "metadata": {},
   "outputs": [
    {
     "data": {
      "text/plain": [
       "{0: 0.14130088777278677,\n",
       " 2: 0.1449085700137941,\n",
       " 3: 0.25519046440066495,\n",
       " 4: 0.17083436494181728,\n",
       " 5: 0.11215647437484526,\n",
       " 6: 0.17560923849609167}"
      ]
     },
     "execution_count": 46,
     "metadata": {},
     "output_type": "execute_result"
    }
   ],
   "source": [
    "#Removing weight of \"Disgust\" tag\n",
    "del class_weights[1]\n",
    "class_weights"
   ]
  },
  {
   "cell_type": "code",
   "execution_count": 47,
   "metadata": {},
   "outputs": [],
   "source": [
    "#Calculate class weights for distribution\n",
    "# print(len(train_images))\n",
    "# class_weight = dict(zip(range(0, 7), (((dataset[dataset['Usage']=='Training']['emotion'].value_counts()).\n",
    "#                                        sort_index())/len(train_images).tolist())))\n",
    "                                      \n",
    "# #                                       len(dataset[dataset['Usage']=='Training']['emotion'])).tolist()))"
   ]
  },
  {
   "cell_type": "code",
   "execution_count": 48,
   "metadata": {},
   "outputs": [],
   "source": [
    "# class_weight"
   ]
  },
  {
   "cell_type": "code",
   "execution_count": 49,
   "metadata": {},
   "outputs": [],
   "source": [
    "# Reshape the inputs for Sequential model\n",
    "# train_images = train_images.reshape((train_set.shape[0], 48, 48, 1))\n",
    "# val_images = val_images.reshape((val_set.shape[0], 48, 48, 1))\n",
    "# test_images = test_images.reshape((test_set.shape[0], 48, 48, 1))"
   ]
  },
  {
   "cell_type": "code",
   "execution_count": 94,
   "metadata": {},
   "outputs": [
    {
     "data": {
      "text/plain": [
       "(28709, 48, 48, 1)"
      ]
     },
     "execution_count": 94,
     "metadata": {},
     "output_type": "execute_result"
    }
   ],
   "source": [
    "train_images.shape"
   ]
  },
  {
   "cell_type": "code",
   "execution_count": 50,
   "metadata": {},
   "outputs": [],
   "source": [
    "model = models.Sequential()\n",
    "model.add(Conv2D(32, (3, 3), activation='relu', input_shape=(48, 48, 1)))\n",
    "model.add(MaxPool2D((2, 2)))\n",
    "model.add(Conv2D(64, (3, 3), activation='relu'))\n",
    "model.add(MaxPool2D((2, 2)))\n",
    "model.add(Conv2D(64, (3, 3), activation='relu'))\n",
    "model.add(Flatten())\n",
    "model.add(Dense(64, activation='relu'))\n",
    "model.add(Dense(7, activation='softmax'))"
   ]
  },
  {
   "cell_type": "code",
   "execution_count": 51,
   "metadata": {},
   "outputs": [],
   "source": [
    "model.compile(optimizer=Adam(lr=1e-3), loss='categorical_crossentropy', metrics=['accuracy'])"
   ]
  },
  {
   "cell_type": "code",
   "execution_count": 52,
   "metadata": {},
   "outputs": [
    {
     "name": "stdout",
     "output_type": "stream",
     "text": [
      "Model: \"sequential\"\n",
      "_________________________________________________________________\n",
      "Layer (type)                 Output Shape              Param #   \n",
      "=================================================================\n",
      "conv2d (Conv2D)              (None, 46, 46, 32)        320       \n",
      "_________________________________________________________________\n",
      "max_pooling2d (MaxPooling2D) (None, 23, 23, 32)        0         \n",
      "_________________________________________________________________\n",
      "conv2d_1 (Conv2D)            (None, 21, 21, 64)        18496     \n",
      "_________________________________________________________________\n",
      "max_pooling2d_1 (MaxPooling2 (None, 10, 10, 64)        0         \n",
      "_________________________________________________________________\n",
      "conv2d_2 (Conv2D)            (None, 8, 8, 64)          36928     \n",
      "_________________________________________________________________\n",
      "flatten (Flatten)            (None, 4096)              0         \n",
      "_________________________________________________________________\n",
      "dense (Dense)                (None, 64)                262208    \n",
      "_________________________________________________________________\n",
      "dense_1 (Dense)              (None, 7)                 455       \n",
      "=================================================================\n",
      "Total params: 318,407\n",
      "Trainable params: 318,407\n",
      "Non-trainable params: 0\n",
      "_________________________________________________________________\n"
     ]
    }
   ],
   "source": [
    "model.summary()"
   ]
  },
  {
   "cell_type": "code",
   "execution_count": 59,
   "metadata": {},
   "outputs": [
    {
     "name": "stdout",
     "output_type": "stream",
     "text": [
      "Epoch 1/50\n",
      "442/442 [==============================] - 41s 94ms/step - loss: 0.1111 - accuracy: 0.7453 - val_loss: 1.3432 - val_accuracy: 0.5467\n",
      "Epoch 2/50\n",
      "442/442 [==============================] - 45s 102ms/step - loss: 0.1027 - accuracy: 0.7621 - val_loss: 1.4111 - val_accuracy: 0.5523\n",
      "Epoch 3/50\n",
      "442/442 [==============================] - 43s 98ms/step - loss: 0.0937 - accuracy: 0.7842 - val_loss: 1.4756 - val_accuracy: 0.5407\n",
      "Epoch 4/50\n",
      "442/442 [==============================] - 50s 113ms/step - loss: 0.0862 - accuracy: 0.8042 - val_loss: 1.6235 - val_accuracy: 0.5291\n",
      "Epoch 5/50\n",
      "442/442 [==============================] - 51s 115ms/step - loss: 0.0787 - accuracy: 0.8186 - val_loss: 1.6259 - val_accuracy: 0.5436\n",
      "Epoch 6/50\n",
      "442/442 [==============================] - 48s 109ms/step - loss: 0.0712 - accuracy: 0.8363 - val_loss: 1.7400 - val_accuracy: 0.5390\n",
      "Epoch 7/50\n",
      "442/442 [==============================] - 47s 107ms/step - loss: 0.0659 - accuracy: 0.8513 - val_loss: 1.8729 - val_accuracy: 0.5385\n",
      "Epoch 8/50\n",
      "442/442 [==============================] - 45s 102ms/step - loss: 0.0584 - accuracy: 0.8664 - val_loss: 1.9816 - val_accuracy: 0.5320\n",
      "Epoch 9/50\n",
      "442/442 [==============================] - 46s 104ms/step - loss: 0.0525 - accuracy: 0.8793 - val_loss: 2.1615 - val_accuracy: 0.5385\n",
      "Epoch 10/50\n",
      "442/442 [==============================] - 45s 101ms/step - loss: 0.0494 - accuracy: 0.8881 - val_loss: 2.2727 - val_accuracy: 0.5388\n",
      "Epoch 11/50\n",
      "442/442 [==============================] - 45s 102ms/step - loss: 0.0434 - accuracy: 0.9031 - val_loss: 2.3914 - val_accuracy: 0.5453\n",
      "Epoch 12/50\n",
      "442/442 [==============================] - 45s 102ms/step - loss: 0.0402 - accuracy: 0.9095 - val_loss: 2.5685 - val_accuracy: 0.5297\n",
      "Epoch 13/50\n",
      "442/442 [==============================] - 45s 102ms/step - loss: 0.0375 - accuracy: 0.9143 - val_loss: 2.7333 - val_accuracy: 0.5291\n",
      "Epoch 14/50\n",
      "442/442 [==============================] - 48s 108ms/step - loss: 0.0316 - accuracy: 0.9290 - val_loss: 2.9095 - val_accuracy: 0.5323\n",
      "Epoch 15/50\n",
      "442/442 [==============================] - 47s 107ms/step - loss: 0.0313 - accuracy: 0.9294 - val_loss: 3.0173 - val_accuracy: 0.5393\n",
      "Epoch 16/50\n",
      "442/442 [==============================] - 45s 102ms/step - loss: 0.0286 - accuracy: 0.9356 - val_loss: 3.2653 - val_accuracy: 0.5325\n",
      "Epoch 17/50\n",
      "442/442 [==============================] - 49s 111ms/step - loss: 0.0245 - accuracy: 0.9472 - val_loss: 3.2982 - val_accuracy: 0.5419\n",
      "Epoch 18/50\n",
      "442/442 [==============================] - 48s 108ms/step - loss: 0.0233 - accuracy: 0.9500 - val_loss: 3.5415 - val_accuracy: 0.5354\n",
      "Epoch 19/50\n",
      "442/442 [==============================] - 45s 103ms/step - loss: 0.0239 - accuracy: 0.9457 - val_loss: 3.5123 - val_accuracy: 0.5215\n",
      "Epoch 20/50\n",
      "442/442 [==============================] - 45s 102ms/step - loss: 0.0209 - accuracy: 0.9527 - val_loss: 3.8044 - val_accuracy: 0.5218\n",
      "Epoch 21/50\n",
      "442/442 [==============================] - 47s 106ms/step - loss: 0.0194 - accuracy: 0.9570 - val_loss: 3.9936 - val_accuracy: 0.5229\n",
      "Epoch 22/50\n",
      "442/442 [==============================] - 47s 106ms/step - loss: 0.0198 - accuracy: 0.9570 - val_loss: 4.0077 - val_accuracy: 0.5277\n",
      "Epoch 23/50\n",
      "442/442 [==============================] - 45s 101ms/step - loss: 0.0206 - accuracy: 0.9544 - val_loss: 3.9808 - val_accuracy: 0.5337\n",
      "Epoch 24/50\n",
      "442/442 [==============================] - 47s 106ms/step - loss: 0.0164 - accuracy: 0.9648 - val_loss: 4.2033 - val_accuracy: 0.5272\n",
      "Epoch 25/50\n",
      "442/442 [==============================] - 44s 99ms/step - loss: 0.0206 - accuracy: 0.9556 - val_loss: 4.2368 - val_accuracy: 0.5334\n",
      "Epoch 26/50\n",
      "442/442 [==============================] - 43s 97ms/step - loss: 0.0211 - accuracy: 0.9552 - val_loss: 4.2999 - val_accuracy: 0.5306\n",
      "Epoch 27/50\n",
      "442/442 [==============================] - 44s 100ms/step - loss: 0.0162 - accuracy: 0.9656 - val_loss: 4.4976 - val_accuracy: 0.5348\n",
      "Epoch 28/50\n",
      "442/442 [==============================] - 46s 103ms/step - loss: 0.0131 - accuracy: 0.9729 - val_loss: 4.6037 - val_accuracy: 0.5308\n",
      "Epoch 29/50\n",
      "442/442 [==============================] - 45s 102ms/step - loss: 0.0134 - accuracy: 0.9711 - val_loss: 4.6478 - val_accuracy: 0.5303\n",
      "Epoch 30/50\n",
      "442/442 [==============================] - 46s 104ms/step - loss: 0.0172 - accuracy: 0.9629 - val_loss: 4.5637 - val_accuracy: 0.5331\n",
      "Epoch 31/50\n",
      "442/442 [==============================] - 47s 107ms/step - loss: 0.0194 - accuracy: 0.9572 - val_loss: 4.5681 - val_accuracy: 0.5345\n",
      "Epoch 32/50\n",
      "442/442 [==============================] - 47s 107ms/step - loss: 0.0120 - accuracy: 0.9756 - val_loss: 4.8135 - val_accuracy: 0.5365\n",
      "Epoch 33/50\n",
      "442/442 [==============================] - 46s 105ms/step - loss: 0.0124 - accuracy: 0.9732 - val_loss: 4.8839 - val_accuracy: 0.5348\n",
      "Epoch 34/50\n",
      "442/442 [==============================] - 45s 102ms/step - loss: 0.0159 - accuracy: 0.9660 - val_loss: 4.9362 - val_accuracy: 0.5331\n",
      "Epoch 35/50\n",
      "442/442 [==============================] - 46s 103ms/step - loss: 0.0152 - accuracy: 0.9679 - val_loss: 4.8523 - val_accuracy: 0.5266\n",
      "Epoch 36/50\n",
      "442/442 [==============================] - 46s 105ms/step - loss: 0.0155 - accuracy: 0.9693 - val_loss: 4.9529 - val_accuracy: 0.5252\n",
      "Epoch 37/50\n",
      "442/442 [==============================] - 47s 106ms/step - loss: 0.0145 - accuracy: 0.9702 - val_loss: 5.0674 - val_accuracy: 0.5359\n",
      "Epoch 38/50\n",
      "442/442 [==============================] - 47s 107ms/step - loss: 0.0135 - accuracy: 0.9707 - val_loss: 5.0355 - val_accuracy: 0.5357\n",
      "Epoch 39/50\n",
      "442/442 [==============================] - 47s 106ms/step - loss: 0.0094 - accuracy: 0.9808 - val_loss: 5.2802 - val_accuracy: 0.5272\n",
      "Epoch 40/50\n",
      "442/442 [==============================] - 46s 105ms/step - loss: 0.0179 - accuracy: 0.9628 - val_loss: 5.1196 - val_accuracy: 0.5300\n",
      "Epoch 41/50\n",
      "442/442 [==============================] - 44s 99ms/step - loss: 0.0131 - accuracy: 0.9742 - val_loss: 5.2996 - val_accuracy: 0.5323\n",
      "Epoch 42/50\n",
      "442/442 [==============================] - 42s 95ms/step - loss: 0.0121 - accuracy: 0.9744 - val_loss: 5.2854 - val_accuracy: 0.5382\n",
      "Epoch 43/50\n",
      "442/442 [==============================] - 42s 96ms/step - loss: 0.0099 - accuracy: 0.9814 - val_loss: 5.4613 - val_accuracy: 0.5289\n",
      "Epoch 44/50\n",
      "442/442 [==============================] - 42s 94ms/step - loss: 0.0140 - accuracy: 0.9715 - val_loss: 5.3843 - val_accuracy: 0.5207\n",
      "Epoch 45/50\n",
      "442/442 [==============================] - 42s 94ms/step - loss: 0.0134 - accuracy: 0.9729 - val_loss: 5.3406 - val_accuracy: 0.5212\n",
      "Epoch 46/50\n",
      "442/442 [==============================] - 44s 100ms/step - loss: 0.0116 - accuracy: 0.9761 - val_loss: 5.5757 - val_accuracy: 0.5289\n",
      "Epoch 47/50\n",
      "442/442 [==============================] - 44s 101ms/step - loss: 0.0086 - accuracy: 0.9826 - val_loss: 5.5889 - val_accuracy: 0.5331\n",
      "Epoch 48/50\n",
      "442/442 [==============================] - 45s 101ms/step - loss: 0.0090 - accuracy: 0.9825 - val_loss: 5.7279 - val_accuracy: 0.5289\n",
      "Epoch 49/50\n",
      "442/442 [==============================] - 47s 106ms/step - loss: 0.0111 - accuracy: 0.9770 - val_loss: 5.6028 - val_accuracy: 0.5328\n",
      "Epoch 50/50\n",
      "442/442 [==============================] - 45s 102ms/step - loss: 0.0194 - accuracy: 0.9607 - val_loss: 5.6874 - val_accuracy: 0.5291\n"
     ]
    }
   ],
   "source": [
    "history = model.fit(train_images, train_labels,\n",
    "                    validation_data=(val_images, val_labels),\n",
    "                    class_weight = class_weights,\n",
    "                    epochs=50,\n",
    "                    batch_size=64)"
   ]
  },
  {
   "cell_type": "code",
   "execution_count": null,
   "metadata": {},
   "outputs": [],
   "source": []
  },
  {
   "cell_type": "code",
   "execution_count": null,
   "metadata": {},
   "outputs": [],
   "source": []
  },
  {
   "cell_type": "markdown",
   "metadata": {},
   "source": [
    "# 2. Using Data Augmentation"
   ]
  },
  {
   "cell_type": "code",
   "execution_count": null,
   "metadata": {},
   "outputs": [],
   "source": [
    "#Using the same model layers\n",
    "\n",
    "model2 = models.Sequential()\n",
    "model2.add(Conv2D(32, (3, 3), activation='relu', input_shape=(48, 48, 1)))\n",
    "model2.add(MaxPool2D((2, 2)))\n",
    "model2.add(Conv2D(64, (3, 3), activation='relu'))\n",
    "model2.add(MaxPool2D((2, 2)))\n",
    "model2.add(Conv2D(64, (3, 3), activation='relu'))\n",
    "model2.add(Flatten())\n",
    "model2.add(Dense(64, activation='relu'))\n",
    "model2.add(Dense(7, activation='softmax'))"
   ]
  },
  {
   "cell_type": "code",
   "execution_count": 60,
   "metadata": {},
   "outputs": [],
   "source": [
    "from tensorflow.keras.preprocessing.image import ImageDataGenerator"
   ]
  },
  {
   "cell_type": "code",
   "execution_count": null,
   "metadata": {},
   "outputs": [],
   "source": [
    "datagen = ImageDataGenerator(rescale=1/255,\n",
    "                             shear_range=0.2,\n",
    "                             zoom_range=0.2,\n",
    "                             horizontal_flip=True)"
   ]
  },
  {
   "cell_type": "code",
   "execution_count": 61,
   "metadata": {},
   "outputs": [],
   "source": [
    "# training_generator = datagen.flow(x_train, y_train, batch_size=64,subset='training',seed=7)\n",
    "# validation_generator = datagen.flow(x_train, y_train, batch_size=64,subset='validation',seed=7)"
   ]
  },
  {
   "cell_type": "code",
   "execution_count": 62,
   "metadata": {},
   "outputs": [],
   "source": [
    "#Visualize training generator"
   ]
  },
  {
   "cell_type": "code",
   "execution_count": 63,
   "metadata": {},
   "outputs": [],
   "source": [
    "#Train model"
   ]
  }
 ],
 "metadata": {
  "kernelspec": {
   "display_name": "Python 3",
   "language": "python",
   "name": "python3"
  },
  "language_info": {
   "codemirror_mode": {
    "name": "ipython",
    "version": 3
   },
   "file_extension": ".py",
   "mimetype": "text/x-python",
   "name": "python",
   "nbconvert_exporter": "python",
   "pygments_lexer": "ipython3",
   "version": "3.8.3"
  }
 },
 "nbformat": 4,
 "nbformat_minor": 4
}
